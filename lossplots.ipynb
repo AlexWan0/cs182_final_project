{
 "cells": [
  {
   "cell_type": "code",
   "execution_count": 2,
   "metadata": {},
   "outputs": [],
   "source": [
    "import seaborn as sns\n",
    "import matplotlib.pyplot as plt\n",
    "import numpy as np\n",
    "import pandas as pd\n",
    "from matplotlib import font_manager\n",
    "\n",
    "sns.set(rc={'figure.figsize':(6.5, 4.5)})\n",
    "sns.set_theme(style='white')\n",
    "\n",
    "font_path='/home/ericwallace/computer-modern/cmunss.ttf'\n",
    "font_manager.fontManager.addfont(font_path)\n",
    "prop = font_manager.FontProperties(fname=font_path)\n",
    "plt.rcParams[\"axes.edgecolor\"] = \"0.15\"\n",
    "plt.rcParams[\"axes.linewidth\"]  = 1.25\n",
    "plt.rcParams['font.family'] = 'sans-serif'\n",
    "plt.rcParams['font.sans-serif'] = prop.get_name()\n",
    "plt.rcParams.update({'axes.labelsize': '30', 'axes.labelpad': '8.0', 'axes.titlesize':'30'})\n",
    "plt.rcParams['axes.unicode_minus'] = False\n",
    "\n",
    "plt.rc('xtick', labelsize=14)\n",
    "plt.rc('ytick', labelsize=14)\n",
    "# plt.rcParams[\"legend.markerscale\"] = 10.0\n",
    "# plt.rcParams['lines.markersize'] = 10"
   ]
  },
  {
   "cell_type": "code",
   "execution_count": 3,
   "metadata": {},
   "outputs": [],
   "source": [
    "import json\n",
    "import pandas as pd\n",
    "\n",
    "def parse_path(path, name):\n",
    "    with open(path, 'r') as f:\n",
    "        file_contents = f.read()\n",
    "        file_contents = file_contents.replace('\\'', '\\\"')\n",
    "        data = json.loads(file_contents)\n",
    "\n",
    "    rows = []\n",
    "\n",
    "    for raw_row in data:\n",
    "        if 'loss' in raw_row:\n",
    "            rows.append([raw_row['loss'], raw_row['step'], raw_row['epoch'], 'train'])\n",
    "        elif 'eval_loss' in raw_row:\n",
    "            rows.append([raw_row['eval_loss'], raw_row['step'], raw_row['epoch'], 'validation'])\n",
    "    \n",
    "    df = pd.DataFrame(rows, columns=['loss', 'step', 'epoch', 'type'])\n",
    "\n",
    "    df['name'] = [name] * len(df)\n",
    "\n",
    "    return df"
   ]
  },
  {
   "cell_type": "code",
   "execution_count": 4,
   "metadata": {},
   "outputs": [],
   "source": [
    "paths = {\n",
    "    'News': 'runs/gpt2_NewsData_16_8_10_8_0.0005/log_history.txt',\n",
    "    'Reddit': 'runs/gpt2_RedditData_16_8_10_8_0.0005/log_history.txt',\n",
    "    'Tweets': 'runs/gpt2_TweetData_16_8_10_8_0.0005/log_history.txt'\n",
    "}\n",
    "\n",
    "df = pd.concat([parse_path(path, name) for name, path in paths.items()])"
   ]
  },
  {
   "cell_type": "code",
   "execution_count": 7,
   "metadata": {},
   "outputs": [],
   "source": [
    "import seaborn as sns\n",
    "from matplotlib import pyplot as plt\n",
    "\n",
    "grid = sns.FacetGrid(\n",
    "    df,\n",
    "    col='name',\n",
    "    height=5,\n",
    "    aspect=1.5,\n",
    "    sharex=False,\n",
    "    sharey=False\n",
    ")\n",
    "\n",
    "grid.map_dataframe(\n",
    "    sns.lineplot,\n",
    "    data=df,\n",
    "    x='step',\n",
    "    y='loss',\n",
    "    hue='type',\n",
    "    linewidth=4\n",
    ")\n",
    "\n",
    "# set x and y labels\n",
    "grid.set_axis_labels('Step', 'Loss')\n",
    "\n",
    "# set titles\n",
    "grid.axes[0, 0].set_title('News')\n",
    "grid.axes[0, 1].set_title('Reddit')\n",
    "grid.axes[0, 2].set_title('Tweets')\n",
    "\n",
    "plt.legend(loc='upper right')\n",
    "plt.legend(fontsize=20)\n",
    "for i in range(3):\n",
    "    grid.axes[0, i].tick_params(axis='both', which='major', labelsize=20)\n",
    "\n",
    "# plt.show()\n",
    "\n",
    "plt.savefig('figs/lossplots.pdf', bbox_inches='tight')"
   ]
  }
 ],
 "metadata": {
  "kernelspec": {
   "display_name": "aw-nlp",
   "language": "python",
   "name": "python3"
  },
  "language_info": {
   "codemirror_mode": {
    "name": "ipython",
    "version": 3
   },
   "file_extension": ".py",
   "mimetype": "text/x-python",
   "name": "python",
   "nbconvert_exporter": "python",
   "pygments_lexer": "ipython3",
   "version": "3.10.11"
  }
 },
 "nbformat": 4,
 "nbformat_minor": 2
}
