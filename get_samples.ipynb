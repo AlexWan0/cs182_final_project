{
 "cells": [
  {
   "cell_type": "code",
   "execution_count": 1,
   "metadata": {},
   "outputs": [],
   "source": [
    "%load_ext autoreload\n",
    "%autoreload 2\n",
    "\n",
    "import os\n",
    "os.environ[\"CUDA_DEVICE_ORDER\"]=\"PCI_BUS_ID\"   # see issue #152\n",
    "os.environ[\"CUDA_VISIBLE_DEVICES\"]=\"0\""
   ]
  },
  {
   "cell_type": "code",
   "execution_count": 6,
   "metadata": {},
   "outputs": [],
   "source": [
    "paths = [\n",
    "    ('News', 'Early', 'runs/gpt2_NewsData_16_8_10_8_0.0005/checkpoint-1466/style_adapter/'),\n",
    "    ('News', 'Mid', 'runs/gpt2_NewsData_16_8_10_8_0.0005/checkpoint-4398/style_adapter/'),\n",
    "    ('News', 'Late', 'runs/gpt2_NewsData_16_8_10_8_0.0005/checkpoint-7330/style_adapter/'),\n",
    "    \n",
    "    ('Reddit', 'Early', 'runs/gpt2_RedditData_16_8_10_8_0.0005/checkpoint-378/style_adapter/'),\n",
    "    ('Reddit', 'Mid', 'runs/gpt2_RedditData_16_8_10_8_0.0005/checkpoint-1134/style_adapter/'),\n",
    "    ('Reddit', 'Late', 'runs/gpt2_RedditData_16_8_10_8_0.0005/checkpoint-1890/style_adapter/'),\n",
    "\n",
    "    ('Tweets', 'Early', 'runs/gpt2_TweetData_16_8_10_8_0.0005/checkpoint-302/style_adapter/'),\n",
    "    ('Tweets', 'Mid', 'runs/gpt2_TweetData_16_8_10_8_0.0005/checkpoint-906/style_adapter/'),\n",
    "    ('Tweets', 'Late', 'runs/gpt2_TweetData_16_8_10_8_0.0005/checkpoint-1510/style_adapter/'),\n",
    "]"
   ]
  },
  {
   "cell_type": "code",
   "execution_count": 10,
   "metadata": {},
   "outputs": [],
   "source": [
    "from model import StyleModel, ModelArgs\n",
    "\n",
    "def get_generation_from_path(path):\n",
    "    model_args = ModelArgs(\n",
    "        model_name='gpt2',\n",
    "        is_mlm=False,\n",
    "        from_pretrained=path\n",
    "    )\n",
    "\n",
    "    model = StyleModel(\n",
    "        model_args\n",
    "    )\n",
    "\n",
    "    generation = model.generate('Today,', max_tokens=256)\n",
    "\n",
    "    return generation"
   ]
  },
  {
   "cell_type": "code",
   "execution_count": 11,
   "metadata": {},
   "outputs": [
    {
     "name": "stderr",
     "output_type": "stream",
     "text": [
      " 11%|█         | 1/9 [00:05<00:44,  5.54s/it]"
     ]
    },
    {
     "name": "stdout",
     "output_type": "stream",
     "text": [
      "News Early:\n",
      "Today, however, has a reputation as a little better on the job.It all starts with a smile.It all started with a smile...\n",
      "\n"
     ]
    },
    {
     "name": "stderr",
     "output_type": "stream",
     "text": [
      " 22%|██▏       | 2/9 [00:15<00:55,  7.88s/it]"
     ]
    },
    {
     "name": "stdout",
     "output_type": "stream",
     "text": [
      "News Mid:\n",
      "Today, I am looking forward to meeting my new friend and colleague. I also have the feeling that he might come around once in a while, though it seems that he has not been as well received as I hope to be.        This meeting is really going to be about a different kind of friendship than usual.      So far I've heard nothing positive about him.       I don't know whether his relationship will be good, he's been kind, I think, I don't know how many other people would agree to call this meeting.      I would certainly hope I'll learn something from it...        If I hadn't met him, I'd be disappointed.         He was nice, but he didn't deserve that   award...     I have the feeling that I'll see him soon...     I don't know what other people would have said, but I will feel for him...    I hope he doesn't get his way.     I hope he has his way.     I want my friend back in that relationship, I want to live\n",
      "\n"
     ]
    },
    {
     "name": "stderr",
     "output_type": "stream",
     "text": [
      " 33%|███▎      | 3/9 [00:25<00:54,  9.09s/it]"
     ]
    },
    {
     "name": "stdout",
     "output_type": "stream",
     "text": [
      "News Late:\n",
      "Today, the government of Saudi Arabia announced on Tuesday the opening of a port to host international tourists and airlines, a move that will boost tourism to a new round of development that is expected to bring in around 300 new jobs in Saudi Arabia.Yemen's oil prices fall after deal A second OPEC meeting on Friday failed to raise output from its stockpiles, but analysts said prices were expected to fall sharply this week.Namibia - Pakistan, India Discuss Immediate War on Sudan (Reuters) Reuters - Namibia and India are\\discussions to determine the ultimate settlement of the conflict in the\\distant north of the Democratic Republic of Congo (DRC), sources close to the matter\\to said government said on Tuesday.Nokia Plans to Build Mobile Phone (Update3) Nokia Co. has been in talks with Android device maker Cyanogen Inc. on the phone technology, which it said has become the \"first and foremost\" phone  #36;mobile-phone maker #36; #36; for Android and Android OS devices to be on the market by the end of this year.Budapest #39;s PM To Be President in 20 Years (Reuters) Reuters - Hungarian Prime Minister Viktor\\Budgárd, who is known as a staunch socialist\n",
      "\n"
     ]
    },
    {
     "name": "stderr",
     "output_type": "stream",
     "text": [
      " 44%|████▍     | 4/9 [00:35<00:47,  9.49s/it]"
     ]
    },
    {
     "name": "stdout",
     "output_type": "stream",
     "text": [
      "Reddit Early:\n",
      "Today, there was a small movement to legalize marijuana. There was no prohibition for heroin or other drugs. There was only prohibition for cocaine, opium and opiates. If marijuana is still around then there are some small groups out there that are willing to legalize weed if they are able to make a profit and get their people out of jail if they have to buy a ticket to a drug store  it is no small thing and the legal highs in your home are usually just for entertainment and that is why we have legal highs  some of which can be legally sold  but not all legal highs  which means they are illegal and the price of a high is often prohibitive for many people because some people will just buy a drug  and others will just spend thousands  to try it out  and only if it does not hurt them  they still buy the high and then sell it anyway  and that can be very harmful to the economy  because we now have legalized alcohol and cigarettes if people are willing to pay a little extra for that and get into it they are better off  and many people are now selling for nothing at all and can afford to pay for a high  which for the most part works out well for the economy and is probably good for everyone involved  the main thing is\n",
      "\n"
     ]
    },
    {
     "name": "stderr",
     "output_type": "stream",
     "text": [
      " 56%|█████▌    | 5/9 [00:49<00:44, 11.11s/it]"
     ]
    },
    {
     "name": "stdout",
     "output_type": "stream",
     "text": [
      "Reddit Mid:\n",
      "Today, you can take that class at any age you want and teach it to other people you know  well  there are several classes that will teach you how to think about situations and what you have to do to succeed in those situations  and that s why many students do nt take it until they go through class in grade school  or when they graduate or are able to come in person  that s why you ll want to take that class and also  if you re not interested in going to college as a full time student and have only limited experience in your field and you re only interested in studying i feel like there s no difference in education between a 20 year old kid and an average college grad in that it comes from different sources  school and upbringing  in a general sense but it can also be an indicator of different classes you have to take in order to be considered for higher education you need to take some of the more standard classes and classes that come with them as a college grad you are talking about the student  in the beginning of college   who is  is  is very likely to have a lot of different opinions about what education should be  you re talking about  people who usually are not on any kind of  progressive or libertarian track \n",
      "\n"
     ]
    },
    {
     "name": "stderr",
     "output_type": "stream",
     "text": [
      " 67%|██████▋   | 6/9 [01:01<00:33, 11.27s/it]"
     ]
    },
    {
     "name": "stdout",
     "output_type": "stream",
     "text": [
      "Reddit Late:\n",
      "Today, and I think most of us will know this was not a big deal but it did take a long time to figure out who would win   and then there was the massive internet blackout that affected all of the internet services  from Google to Facebook to Twitter so that internet service providers could block access to certain websites and block the access to certain users  and also to other users who had access to websites that did nt require a specific subscription   so there was a bit of a \"no problem but hey  why is that    because some of us are using our internet now  and we d want to continue to do that  so we re going to have to spend some of our time trying to figure out how to manage that in a better way   so I hope this helps to shed some light on this   yes  people will run into the same problems  and if a person stops using their web browser  there s a higher chance that it will run into a security vulnerability that can affect others or cause a catastrophic crash if they do it again  so  no problem  and the risk of the attacker taking advantage of the vulnerability is greatly minimized so they wanted to take it from our hands the biggest reason is just that it is more expensive and\n",
      "\n"
     ]
    },
    {
     "name": "stderr",
     "output_type": "stream",
     "text": [
      " 78%|███████▊  | 7/9 [01:11<00:22, 11.03s/it]"
     ]
    },
    {
     "name": "stdout",
     "output_type": "stream",
     "text": [
      "Tweets Early:\n",
      "Today, I just want to start taking pictures of the world in front of me again. I'm going to go into a gym for a while tomorrow. What am I going to do? #welcome\"@user So you're gonna miss the 1st round of #Yogi...so we may not get to see him again, but I'm just gonna go back to work tomorrow..\"\"I will always try my best to play with you guys! #TeamCigar!\"\"We may as well win the game if we play like this at home in the NBA!\"\"Hey...I have no idea when @user will start tweeting at 8:45 PM. He'll be there next weekend\"\"I know you don't need a real video game to get the job done...just get one of the 2nd Ones! http://imgur.com/a/8bKv #games #Games #Gamer #GameDot #Games #Xbox One #XboxOne #XboxOnslaught #Games\"The best night of my life!! #MyBestNightOfNight #myBestNightOfNight #mybestnightOfNight #nightoftheNight #night@user @user My favorite music video of the day is 'Redwoods Blues' by\n",
      "\n"
     ]
    },
    {
     "name": "stderr",
     "output_type": "stream",
     "text": [
      " 89%|████████▉ | 8/9 [01:20<00:10, 10.42s/it]"
     ]
    },
    {
     "name": "stdout",
     "output_type": "stream",
     "text": [
      "Tweets Mid:\n",
      "Today, a new chapter has begun for the game. In addition to this week's games in Toronto and Montreal, tomorrow's announcement will start the process of releasing a list of new artists. @user #TheRealStraw #therealstraw\"#GIF's: You have never met Paul McCartney. It was one of his great moments on the song 'The Beatles'. #KissAwayYouSeeMe #MetsHimmy\"#BlackPeopleAreFavouringAJC is a great evening for Black people. Let's be honest, we don't get to see you in action. #BlackPeopleAreFavouringAJC\"@user @user @user @user @user #Crowley\"\"What do you know today about Paul McCartney? That's what he will answer after he's done his thing with his life.      No one is going to let him do it.  #Crowley #BlackLivesMatter@user  - Can you imagine this day for the boys who watch? #Crowley\"#4CrazyCrapDownI'll be honest, I'm disappointed. So disappointed that the people who made this game seem to be more important than the people who came up to\n",
      "\n"
     ]
    },
    {
     "name": "stderr",
     "output_type": "stream",
     "text": [
      "100%|██████████| 9/9 [01:30<00:00, 10.11s/it]"
     ]
    },
    {
     "name": "stdout",
     "output_type": "stream",
     "text": [
      "Tweets Late:\n",
      "Today, I was just feeling down. A lot of people in my house are going to be down tonight. So you should check it out...\"Don\\u2019t think it\\u2019s gonna be as good as I thought it was going to be tomorrow. Just wish for the best.\"@user @user @user  I hope that I can get it out tomorrow! :)  I'll take my time and work on it!I might be at Apple tomorrow... I might be in New York! LOL\"#TheBlondeBlond is going to be my best friend, the best friend. That's the last time I will ever be happy :)   I'll be sad in March if it doesn\\u2019t happen to me\"@user i'll see you soon but for now, i just wanna hang out tomorrow with @user\"This was an amazing day for @user. And we don\\u2019t have time for the holidays tomorrow! Love you @user I'll be on my way to the U.S.A@user I'll be around the corner the next day, @user.  He's always going to be there.And on Friday, the #MosesMustFall event in Austin is in full swing! #\n",
      "\n"
     ]
    },
    {
     "name": "stderr",
     "output_type": "stream",
     "text": [
      "\n"
     ]
    }
   ],
   "source": [
    "from tqdm import tqdm\n",
    "\n",
    "rows = []\n",
    "\n",
    "for data, time, path in tqdm(paths):\n",
    "    generation = get_generation_from_path(path)\n",
    "    rows.append((data, time, path, generation))\n",
    "\n",
    "    print(f'{data} {time}:\\n{generation}\\n')"
   ]
  },
  {
   "cell_type": "code",
   "execution_count": null,
   "metadata": {},
   "outputs": [],
   "source": []
  }
 ],
 "metadata": {
  "kernelspec": {
   "display_name": "aw-nlp",
   "language": "python",
   "name": "python3"
  },
  "language_info": {
   "codemirror_mode": {
    "name": "ipython",
    "version": 3
   },
   "file_extension": ".py",
   "mimetype": "text/x-python",
   "name": "python",
   "nbconvert_exporter": "python",
   "pygments_lexer": "ipython3",
   "version": "3.10.11"
  }
 },
 "nbformat": 4,
 "nbformat_minor": 2
}
