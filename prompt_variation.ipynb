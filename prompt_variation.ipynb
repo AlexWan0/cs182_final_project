{
 "cells": [
  {
   "cell_type": "code",
   "execution_count": 1,
   "metadata": {},
   "outputs": [],
   "source": [
    "import seaborn as sns\n",
    "import matplotlib.pyplot as plt\n",
    "import numpy as np\n",
    "import pandas as pd\n",
    "from matplotlib import font_manager\n",
    "\n",
    "sns.set(rc={'figure.figsize':(6.5, 4.5)})\n",
    "sns.set_theme(style='white')\n",
    "\n",
    "plt.rcParams[\"axes.edgecolor\"] = \"0.15\"\n",
    "plt.rcParams[\"axes.linewidth\"]  = 1.25\n",
    "plt.rcParams['font.family'] = 'sans-serif'\n",
    "plt.rcParams.update({'axes.labelsize': '16', 'axes.labelpad': '8.0', 'axes.titlesize':'4'})\n",
    "plt.rcParams['axes.unicode_minus'] = False\n",
    "\n",
    "plt.rc('xtick', labelsize=14)\n",
    "plt.rc('ytick', labelsize=14)\n",
    "# plt.rcParams[\"legend.markerscale\"] = 10.0\n",
    "# plt.rcParams['lines.markersize'] = 10"
   ]
  },
  {
   "cell_type": "code",
   "execution_count": 3,
   "metadata": {},
   "outputs": [],
   "source": [
    "import pandas as pd\n",
    "\n",
    "df = pd.read_csv('results.csv', sep='\\t', header=None)\n",
    "\n",
    "df.columns = ['path', 'test', 'prompt', 'score']"
   ]
  },
  {
   "cell_type": "code",
   "execution_count": 4,
   "metadata": {},
   "outputs": [],
   "source": [
    "import numpy as np\n",
    "\n",
    "df['score'] = df['score'].apply(lambda x: np.array(eval(x)))"
   ]
  },
  {
   "cell_type": "code",
   "execution_count": 5,
   "metadata": {},
   "outputs": [],
   "source": [
    "def mean(x):\n",
    "    return np.mean(x)\n",
    "\n",
    "df_avg = df.groupby(['path', 'test']).agg({'score': mean}).reset_index()"
   ]
  },
  {
   "cell_type": "code",
   "execution_count": null,
   "metadata": {},
   "outputs": [],
   "source": [
    "from utils import parse_path\n",
    "\n",
    "def path_cols(row):\n",
    "    path = row['path']\n",
    "\n",
    "    cols, vals = parse_path(path)\n",
    "\n",
    "    for col, val in zip(cols, vals):\n",
    "        row[col] = val\n",
    "    \n",
    "    return row\n",
    "\n",
    "df_avg = df_avg.apply(path_cols, axis=1)"
   ]
  }
 ],
 "metadata": {
  "kernelspec": {
   "display_name": "aw-nlp",
   "language": "python",
   "name": "python3"
  },
  "language_info": {
   "codemirror_mode": {
    "name": "ipython",
    "version": 3
   },
   "file_extension": ".py",
   "mimetype": "text/x-python",
   "name": "python",
   "nbconvert_exporter": "python",
   "pygments_lexer": "ipython3",
   "version": "3.10.11"
  }
 },
 "nbformat": 4,
 "nbformat_minor": 2
}
