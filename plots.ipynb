{
 "cells": [
  {
   "cell_type": "code",
   "execution_count": 1,
   "metadata": {},
   "outputs": [],
   "source": [
    "import seaborn as sns\n",
    "import matplotlib.pyplot as plt\n",
    "import numpy as np\n",
    "import pandas as pd\n",
    "from matplotlib import font_manager\n",
    "\n",
    "sns.set(rc={'figure.figsize':(6.5, 4.5)})\n",
    "sns.set_theme(style='white')\n",
    "\n",
    "font_path='/home/ericwallace/computer-modern/cmunss.ttf'\n",
    "font_manager.fontManager.addfont(font_path)\n",
    "prop = font_manager.FontProperties(fname=font_path)\n",
    "plt.rcParams[\"axes.edgecolor\"] = \"0.15\"\n",
    "plt.rcParams[\"axes.linewidth\"]  = 1.25\n",
    "plt.rcParams['font.family'] = 'sans-serif'\n",
    "plt.rcParams['font.sans-serif'] = prop.get_name()\n",
    "plt.rcParams.update({'axes.labelsize': '16', 'axes.labelpad': '8.0', 'axes.titlesize':'4'})\n",
    "plt.rcParams['axes.unicode_minus'] = False\n",
    "\n",
    "plt.rc('xtick', labelsize=14)\n",
    "plt.rc('ytick', labelsize=14)\n",
    "# plt.rcParams[\"legend.markerscale\"] = 10.0\n",
    "# plt.rcParams['lines.markersize'] = 10"
   ]
  },
  {
   "cell_type": "code",
   "execution_count": 2,
   "metadata": {},
   "outputs": [],
   "source": [
    "import pandas as pd\n",
    "\n",
    "df = pd.read_csv('results.csv', sep='\\t', header=None)"
   ]
  },
  {
   "cell_type": "code",
   "execution_count": 3,
   "metadata": {},
   "outputs": [],
   "source": [
    "df.columns = ['path', 'test', 'prompt', 'score']"
   ]
  },
  {
   "cell_type": "code",
   "execution_count": 4,
   "metadata": {},
   "outputs": [],
   "source": [
    "import numpy as np\n",
    "\n",
    "df['score'] = df['score'].apply(lambda x: np.array(eval(x)))"
   ]
  },
  {
   "cell_type": "code",
   "execution_count": 5,
   "metadata": {},
   "outputs": [],
   "source": [
    "def mean(x):\n",
    "    return np.mean(x)\n",
    "\n",
    "df_avg = df.groupby(['path', 'test']).agg({'score': mean}).reset_index()"
   ]
  },
  {
   "cell_type": "code",
   "execution_count": 6,
   "metadata": {},
   "outputs": [
    {
     "name": "stderr",
     "output_type": "stream",
     "text": [
      "/home/ericwallace/.local/lib/python3.10/site-packages/tqdm/auto.py:22: TqdmWarning: IProgress not found. Please update jupyter and ipywidgets. See https://ipywidgets.readthedocs.io/en/stable/user_install.html\n",
      "  from .autonotebook import tqdm as notebook_tqdm\n"
     ]
    }
   ],
   "source": [
    "from utils import parse_path\n",
    "\n",
    "def path_cols(row):\n",
    "    path = row['path']\n",
    "\n",
    "    cols, vals = parse_path(path)\n",
    "\n",
    "    for col, val in zip(cols, vals):\n",
    "        row[col] = val\n",
    "    \n",
    "    return row\n",
    "\n",
    "df_avg = df_avg.apply(path_cols, axis=1)"
   ]
  },
  {
   "cell_type": "code",
   "execution_count": 7,
   "metadata": {},
   "outputs": [],
   "source": [
    "def score_cols(row, score_names: list[str]):\n",
    "    score = row['score']\n",
    "\n",
    "    for i, name in enumerate(score_names):\n",
    "        row[name] = score[i]\n",
    "    \n",
    "    return row"
   ]
  },
  {
   "cell_type": "code",
   "execution_count": 8,
   "metadata": {},
   "outputs": [],
   "source": [
    "test_name = 'IPIP_BFFM'\n",
    "score_names = ['Extraversion', 'Agreeableness', 'Conscientiousness', 'Emotional Stability', 'Intellect']\n",
    "df_test = df_avg[df_avg['test'] == test_name]\n",
    "\n",
    "df_test = df_test.apply(score_cols, axis=1, score_names=score_names)\n",
    "\n",
    "df_test = df_test.melt(id_vars=['data', 'r', 'alpha', 'epochs', 'batch_size', 'lr', 'num_steps'], value_vars=score_names, var_name='score', value_name='value')"
   ]
  },
  {
   "cell_type": "code",
   "execution_count": 13,
   "metadata": {},
   "outputs": [],
   "source": [
    "import seaborn as sns\n",
    "from matplotlib import pyplot as plt\n",
    "\n",
    "grid = sns.FacetGrid(\n",
    "    df_test,\n",
    "    col='data',\n",
    "    row='lr',\n",
    "    sharex=False\n",
    ")\n",
    "\n",
    "grid.map_dataframe(\n",
    "    sns.lineplot,\n",
    "    data=df_test,\n",
    "    x='num_steps',\n",
    "    y='value',\n",
    "    hue='score',\n",
    "    marker='o'\n",
    ")\n",
    "\n",
    "plt.legend(loc='upper center', bbox_to_anchor=(1.50, 0.50), shadow=False)\n",
    "\n",
    "for i in range(3):\n",
    "    ax = grid.axes[-1, i]\n",
    "    ax.set_xlabel('Number of steps')\n",
    "\n",
    "for i in range(4):\n",
    "    ax = grid.axes[i, 0]\n",
    "    ax.set_ylabel('Score')\n",
    "\n",
    "grid.set_titles(col_template=\"{col_name}\", fontweight='bold', fontsize=18)\n",
    "\n",
    "plt.savefig('figs/ipip.pdf', bbox_inches='tight')"
   ]
  },
  {
   "cell_type": "code",
   "execution_count": null,
   "metadata": {},
   "outputs": [],
   "source": [
    "test_name = 'Sociotype'\n",
    "score_names = ['Rationality', 'Extroversion', 'Sensing', 'Logical']\n",
    "df_test = df_avg[df_avg['test'] == test_name]\n",
    "\n",
    "df_test = df_test.apply(score_cols, axis=1, score_names=score_names)\n",
    "\n",
    "df_test = df_test.melt(id_vars=['data', 'r', 'alpha', 'epochs', 'batch_size', 'lr', 'num_steps'], value_vars=score_names, var_name='score', value_name='value')"
   ]
  },
  {
   "cell_type": "code",
   "execution_count": null,
   "metadata": {},
   "outputs": [],
   "source": [
    "import seaborn as sns\n",
    "from matplotlib import pyplot as plt\n",
    "\n",
    "grid = sns.FacetGrid(\n",
    "    df_test,\n",
    "    col='data',\n",
    "    row='lr',\n",
    "    sharex=False\n",
    ")\n",
    "\n",
    "grid.map_dataframe(\n",
    "    sns.lineplot,\n",
    "    data=df_test,\n",
    "    x='num_steps',\n",
    "    y='value',\n",
    "    hue='score',\n",
    "    marker='o'\n",
    ")\n",
    "\n",
    "plt.legend(loc='upper center', bbox_to_anchor=(1.50, 0.50), shadow=False)\n",
    "\n",
    "for i in range(3):\n",
    "    ax = grid.axes[-1, i]\n",
    "    ax.set_xlabel('Number of steps')\n",
    "\n",
    "for i in range(4):\n",
    "    ax = grid.axes[i, 0]\n",
    "    ax.set_ylabel('Score')\n",
    "\n",
    "grid.set_titles(col_template=\"{col_name}\", fontweight='bold', fontsize=18)\n",
    "\n",
    "# plt.show()\n",
    "\n",
    "plt.savefig('figs/sociotype.pdf', bbox_inches='tight')"
   ]
  }
 ],
 "metadata": {
  "kernelspec": {
   "display_name": "aw-nlp",
   "language": "python",
   "name": "python3"
  },
  "language_info": {
   "codemirror_mode": {
    "name": "ipython",
    "version": 3
   },
   "file_extension": ".py",
   "mimetype": "text/x-python",
   "name": "python",
   "nbconvert_exporter": "python",
   "pygments_lexer": "ipython3",
   "version": "3.10.11"
  }
 },
 "nbformat": 4,
 "nbformat_minor": 2
}
